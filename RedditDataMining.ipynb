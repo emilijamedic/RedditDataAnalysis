{
 "cells": [
  {
   "cell_type": "code",
   "execution_count": 3,
   "id": "d7e89d2a",
   "metadata": {},
   "outputs": [
    {
     "name": "stdout",
     "output_type": "stream",
     "text": [
      "Requirement already satisfied: praw in c:\\users\\ema\\anaconda3\\lib\\site-packages (7.8.1)\n",
      "Requirement already satisfied: prawcore<3,>=2.4 in c:\\users\\ema\\anaconda3\\lib\\site-packages (from praw) (2.4.0)\n",
      "Requirement already satisfied: update_checker>=0.18 in c:\\users\\ema\\anaconda3\\lib\\site-packages (from praw) (0.18.0)\n",
      "Requirement already satisfied: websocket-client>=0.54.0 in c:\\users\\ema\\anaconda3\\lib\\site-packages (from praw) (0.58.0)\n",
      "Requirement already satisfied: requests<3.0,>=2.6.0 in c:\\users\\ema\\anaconda3\\lib\\site-packages (from prawcore<3,>=2.4->praw) (2.31.0)\n",
      "Requirement already satisfied: six in c:\\users\\ema\\anaconda3\\lib\\site-packages (from websocket-client>=0.54.0->praw) (1.16.0)\n",
      "Requirement already satisfied: charset-normalizer<4,>=2 in c:\\users\\ema\\anaconda3\\lib\\site-packages (from requests<3.0,>=2.6.0->prawcore<3,>=2.4->praw) (2.0.4)\n",
      "Requirement already satisfied: idna<4,>=2.5 in c:\\users\\ema\\anaconda3\\lib\\site-packages (from requests<3.0,>=2.6.0->prawcore<3,>=2.4->praw) (3.4)\n",
      "Requirement already satisfied: urllib3<3,>=1.21.1 in c:\\users\\ema\\anaconda3\\lib\\site-packages (from requests<3.0,>=2.6.0->prawcore<3,>=2.4->praw) (1.26.16)\n",
      "Requirement already satisfied: certifi>=2017.4.17 in c:\\users\\ema\\anaconda3\\lib\\site-packages (from requests<3.0,>=2.6.0->prawcore<3,>=2.4->praw) (2023.7.22)\n"
     ]
    }
   ],
   "source": [
    "!pip install praw"
   ]
  },
  {
   "cell_type": "code",
   "execution_count": 12,
   "id": "bdd15646",
   "metadata": {},
   "outputs": [
    {
     "name": "stdout",
     "output_type": "stream",
     "text": [
      "testingground4bots\n"
     ]
    }
   ],
   "source": [
    "import praw\n",
    "import pandas as pd\n",
    "import seaborn as sns\n",
    "import numpy as np\n",
    "\n",
    "#enter your credentials\n",
    "username=\"\"\n",
    "client_id=\"\"\n",
    "client_secret=\"\"\n",
    "password=\"\"\n",
    "\n",
    "reddit_instance=praw.Reddit(\n",
    "    username=username,\n",
    "    client_id=client_id,\n",
    "    client_secret=client_secret,\n",
    "    password=password,\n",
    "    user_agent=\"test_bot\"\n",
    ")\n",
    "\n",
    "#print(reddit_instance.user.me())\n",
    "subreddit = reddit_instance.subreddit(\"testingground4bots\")\n",
    "#to verify that you're connected\n",
    "print(subreddit)"
   ]
  },
  {
   "cell_type": "code",
   "execution_count": 13,
   "id": "c63675a8",
   "metadata": {},
   "outputs": [],
   "source": [
    "import pandas as pd\n",
    "df=pd.DataFrame()\n",
    "titles=[]\n",
    "scores=[]\n",
    "ids=[]"
   ]
  },
  {
   "cell_type": "code",
   "execution_count": 14,
   "id": "6ebb98b0",
   "metadata": {},
   "outputs": [
    {
     "name": "stdout",
     "output_type": "stream",
     "text": [
      "         Id                                             Titles  Upvotes\n",
      "0   1l01745                                        Great post!        1\n",
      "69  1kp38sb       Default H1 - LLM Response Invalid or Missing        1\n",
      "68  1kp399b       Default H1 - LLM Response Invalid or Missing        1\n",
      "67  1kp39pr       Default H1 - LLM Response Invalid or Missing        1\n",
      "66  1kp3a60       Default H1 - LLM Response Invalid or Missing        1\n",
      "..      ...                                                ...      ...\n",
      "37  1kqjrcf                                         Hello test        2\n",
      "88  1kmfk08  Databricks Acquires Neon for $1B to Supercharg...        2\n",
      "97  1klzvz0  GenAI Attack Chains: The Dual Role of AI in Cy...        2\n",
      "46  1kppyfn                                               test        2\n",
      "85  1ko7so7                                               test        3\n",
      "\n",
      "[100 rows x 3 columns]\n"
     ]
    }
   ],
   "source": [
    "posts=subreddit.hot(limit=100)\n",
    "for post in posts:\n",
    "    titles.append(post.title)\n",
    "    scores.append(post.score) #upvotes\n",
    "    ids.append(post.id)\n",
    "df['Id']=ids   \n",
    "df['Titles'] = titles\n",
    "df['Upvotes'] = scores\n",
    "df = df.sort_values(by=['Upvotes'])\n",
    "print(df)"
   ]
  },
  {
   "cell_type": "code",
   "execution_count": 15,
   "id": "9c7f15fb",
   "metadata": {},
   "outputs": [
    {
     "data": {
      "text/html": [
       "<div>\n",
       "<style scoped>\n",
       "    .dataframe tbody tr th:only-of-type {\n",
       "        vertical-align: middle;\n",
       "    }\n",
       "\n",
       "    .dataframe tbody tr th {\n",
       "        vertical-align: top;\n",
       "    }\n",
       "\n",
       "    .dataframe thead th {\n",
       "        text-align: right;\n",
       "    }\n",
       "</style>\n",
       "<table border=\"1\" class=\"dataframe\">\n",
       "  <thead>\n",
       "    <tr style=\"text-align: right;\">\n",
       "      <th></th>\n",
       "      <th>Id</th>\n",
       "      <th>Titles</th>\n",
       "      <th>Upvotes</th>\n",
       "    </tr>\n",
       "  </thead>\n",
       "  <tbody>\n",
       "    <tr>\n",
       "      <th>0</th>\n",
       "      <td>1l01745</td>\n",
       "      <td>Great post!</td>\n",
       "      <td>1</td>\n",
       "    </tr>\n",
       "    <tr>\n",
       "      <th>69</th>\n",
       "      <td>1kp38sb</td>\n",
       "      <td>Default H1 - LLM Response Invalid or Missing</td>\n",
       "      <td>1</td>\n",
       "    </tr>\n",
       "    <tr>\n",
       "      <th>68</th>\n",
       "      <td>1kp399b</td>\n",
       "      <td>Default H1 - LLM Response Invalid or Missing</td>\n",
       "      <td>1</td>\n",
       "    </tr>\n",
       "    <tr>\n",
       "      <th>67</th>\n",
       "      <td>1kp39pr</td>\n",
       "      <td>Default H1 - LLM Response Invalid or Missing</td>\n",
       "      <td>1</td>\n",
       "    </tr>\n",
       "    <tr>\n",
       "      <th>66</th>\n",
       "      <td>1kp3a60</td>\n",
       "      <td>Default H1 - LLM Response Invalid or Missing</td>\n",
       "      <td>1</td>\n",
       "    </tr>\n",
       "  </tbody>\n",
       "</table>\n",
       "</div>"
      ],
      "text/plain": [
       "         Id                                        Titles  Upvotes\n",
       "0   1l01745                                   Great post!        1\n",
       "69  1kp38sb  Default H1 - LLM Response Invalid or Missing        1\n",
       "68  1kp399b  Default H1 - LLM Response Invalid or Missing        1\n",
       "67  1kp39pr  Default H1 - LLM Response Invalid or Missing        1\n",
       "66  1kp3a60  Default H1 - LLM Response Invalid or Missing        1"
      ]
     },
     "execution_count": 15,
     "metadata": {},
     "output_type": "execute_result"
    }
   ],
   "source": [
    "df.head()"
   ]
  },
  {
   "cell_type": "code",
   "execution_count": 16,
   "id": "37952430",
   "metadata": {},
   "outputs": [
    {
     "name": "stdout",
     "output_type": "stream",
     "text": [
      "<class 'pandas.core.frame.DataFrame'>\n",
      "Index: 100 entries, 0 to 85\n",
      "Data columns (total 3 columns):\n",
      " #   Column   Non-Null Count  Dtype \n",
      "---  ------   --------------  ----- \n",
      " 0   Id       100 non-null    object\n",
      " 1   Titles   100 non-null    object\n",
      " 2   Upvotes  100 non-null    int64 \n",
      "dtypes: int64(1), object(2)\n",
      "memory usage: 3.1+ KB\n"
     ]
    }
   ],
   "source": [
    "df.info()"
   ]
  },
  {
   "cell_type": "code",
   "execution_count": 17,
   "id": "adc97d41",
   "metadata": {},
   "outputs": [
    {
     "data": {
      "text/html": [
       "<div>\n",
       "<style scoped>\n",
       "    .dataframe tbody tr th:only-of-type {\n",
       "        vertical-align: middle;\n",
       "    }\n",
       "\n",
       "    .dataframe tbody tr th {\n",
       "        vertical-align: top;\n",
       "    }\n",
       "\n",
       "    .dataframe thead th {\n",
       "        text-align: right;\n",
       "    }\n",
       "</style>\n",
       "<table border=\"1\" class=\"dataframe\">\n",
       "  <thead>\n",
       "    <tr style=\"text-align: right;\">\n",
       "      <th></th>\n",
       "      <th>Id</th>\n",
       "      <th>Titles</th>\n",
       "      <th>Upvotes</th>\n",
       "    </tr>\n",
       "  </thead>\n",
       "  <tbody>\n",
       "    <tr>\n",
       "      <th>0</th>\n",
       "      <td>1l01745</td>\n",
       "      <td>Great post!</td>\n",
       "      <td>1</td>\n",
       "    </tr>\n",
       "    <tr>\n",
       "      <th>10</th>\n",
       "      <td>1kwdnij</td>\n",
       "      <td>Testing a new bot feature! 🤖</td>\n",
       "      <td>1</td>\n",
       "    </tr>\n",
       "    <tr>\n",
       "      <th>1</th>\n",
       "      <td>1kzw05w</td>\n",
       "      <td>Test</td>\n",
       "      <td>1</td>\n",
       "    </tr>\n",
       "    <tr>\n",
       "      <th>2</th>\n",
       "      <td>1kz99uk</td>\n",
       "      <td>Content only</td>\n",
       "      <td>1</td>\n",
       "    </tr>\n",
       "    <tr>\n",
       "      <th>3</th>\n",
       "      <td>1kyy3b3</td>\n",
       "      <td>F1 Graph</td>\n",
       "      <td>1</td>\n",
       "    </tr>\n",
       "    <tr>\n",
       "      <th>4</th>\n",
       "      <td>1kyy0jh</td>\n",
       "      <td>F1 Graph</td>\n",
       "      <td>1</td>\n",
       "    </tr>\n",
       "    <tr>\n",
       "      <th>5</th>\n",
       "      <td>1kyxx9j</td>\n",
       "      <td>F1 Graph</td>\n",
       "      <td>1</td>\n",
       "    </tr>\n",
       "    <tr>\n",
       "      <th>6</th>\n",
       "      <td>1kydts2</td>\n",
       "      <td>Great post!</td>\n",
       "      <td>1</td>\n",
       "    </tr>\n",
       "    <tr>\n",
       "      <th>7</th>\n",
       "      <td>1kxg2jv</td>\n",
       "      <td>test, check 1, 2 3</td>\n",
       "      <td>1</td>\n",
       "    </tr>\n",
       "    <tr>\n",
       "      <th>8</th>\n",
       "      <td>1kwps4y</td>\n",
       "      <td>Test your bot here! 🤖 25 characters</td>\n",
       "      <td>1</td>\n",
       "    </tr>\n",
       "  </tbody>\n",
       "</table>\n",
       "</div>"
      ],
      "text/plain": [
       "         Id                               Titles  Upvotes\n",
       "0   1l01745                          Great post!        1\n",
       "10  1kwdnij         Testing a new bot feature! 🤖        1\n",
       "1   1kzw05w                                 Test        1\n",
       "2   1kz99uk                         Content only        1\n",
       "3   1kyy3b3                             F1 Graph        1\n",
       "4   1kyy0jh                             F1 Graph        1\n",
       "5   1kyxx9j                             F1 Graph        1\n",
       "6   1kydts2                          Great post!        1\n",
       "7   1kxg2jv                   test, check 1, 2 3        1\n",
       "8   1kwps4y  Test your bot here! 🤖 25 characters        1"
      ]
     },
     "execution_count": 17,
     "metadata": {},
     "output_type": "execute_result"
    }
   ],
   "source": [
    "df = df.sort_values(by=['Upvotes'], ascending=True)\n",
    "df.head(10)"
   ]
  },
  {
   "cell_type": "code",
   "execution_count": 18,
   "id": "d5421ee0",
   "metadata": {},
   "outputs": [],
   "source": [
    "df1 = df.copy()"
   ]
  },
  {
   "cell_type": "code",
   "execution_count": 19,
   "id": "f4ded80f",
   "metadata": {},
   "outputs": [
    {
     "data": {
      "text/html": [
       "<div>\n",
       "<style scoped>\n",
       "    .dataframe tbody tr th:only-of-type {\n",
       "        vertical-align: middle;\n",
       "    }\n",
       "\n",
       "    .dataframe tbody tr th {\n",
       "        vertical-align: top;\n",
       "    }\n",
       "\n",
       "    .dataframe thead th {\n",
       "        text-align: right;\n",
       "    }\n",
       "</style>\n",
       "<table border=\"1\" class=\"dataframe\">\n",
       "  <thead>\n",
       "    <tr style=\"text-align: right;\">\n",
       "      <th></th>\n",
       "      <th>Id</th>\n",
       "      <th>Titles</th>\n",
       "      <th>Upvotes</th>\n",
       "    </tr>\n",
       "  </thead>\n",
       "  <tbody>\n",
       "    <tr>\n",
       "      <th>0</th>\n",
       "      <td>1l01745</td>\n",
       "      <td>Great post!</td>\n",
       "      <td>1</td>\n",
       "    </tr>\n",
       "    <tr>\n",
       "      <th>10</th>\n",
       "      <td>1kwdnij</td>\n",
       "      <td>Testing a new bot feature! 🤖</td>\n",
       "      <td>1</td>\n",
       "    </tr>\n",
       "    <tr>\n",
       "      <th>1</th>\n",
       "      <td>1kzw05w</td>\n",
       "      <td>Test</td>\n",
       "      <td>1</td>\n",
       "    </tr>\n",
       "    <tr>\n",
       "      <th>2</th>\n",
       "      <td>1kz99uk</td>\n",
       "      <td>Content only</td>\n",
       "      <td>1</td>\n",
       "    </tr>\n",
       "    <tr>\n",
       "      <th>3</th>\n",
       "      <td>1kyy3b3</td>\n",
       "      <td>F1 Graph</td>\n",
       "      <td>1</td>\n",
       "    </tr>\n",
       "  </tbody>\n",
       "</table>\n",
       "</div>"
      ],
      "text/plain": [
       "         Id                        Titles  Upvotes\n",
       "0   1l01745                   Great post!        1\n",
       "10  1kwdnij  Testing a new bot feature! 🤖        1\n",
       "1   1kzw05w                          Test        1\n",
       "2   1kz99uk                  Content only        1\n",
       "3   1kyy3b3                      F1 Graph        1"
      ]
     },
     "execution_count": 19,
     "metadata": {},
     "output_type": "execute_result"
    }
   ],
   "source": [
    "df1.head()"
   ]
  },
  {
   "cell_type": "code",
   "execution_count": 20,
   "id": "0b26a44a",
   "metadata": {},
   "outputs": [],
   "source": [
    "df1['Popularity Score'] = df1.loc[df['Upvotes']==0] = \"new\""
   ]
  },
  {
   "cell_type": "code",
   "execution_count": 21,
   "id": "5440a4e5",
   "metadata": {},
   "outputs": [],
   "source": [
    "df1['Popularity Score'] = df1.loc[df['Upvotes']>10] = \"great\""
   ]
  },
  {
   "cell_type": "code",
   "execution_count": 22,
   "id": "6afa85b2",
   "metadata": {},
   "outputs": [],
   "source": [
    "df1['Popularity Score'] = df1.loc[df['Upvotes']>100] = \"hot\""
   ]
  },
  {
   "cell_type": "code",
   "execution_count": 23,
   "id": "8ae14545",
   "metadata": {},
   "outputs": [],
   "source": [
    "df1['Popularity Score'] = df1.loc[df['Upvotes']>1000] = \"best\""
   ]
  },
  {
   "cell_type": "code",
   "execution_count": 24,
   "id": "7b051e0b",
   "metadata": {},
   "outputs": [
    {
     "data": {
      "text/html": [
       "<div>\n",
       "<style scoped>\n",
       "    .dataframe tbody tr th:only-of-type {\n",
       "        vertical-align: middle;\n",
       "    }\n",
       "\n",
       "    .dataframe tbody tr th {\n",
       "        vertical-align: top;\n",
       "    }\n",
       "\n",
       "    .dataframe thead th {\n",
       "        text-align: right;\n",
       "    }\n",
       "</style>\n",
       "<table border=\"1\" class=\"dataframe\">\n",
       "  <thead>\n",
       "    <tr style=\"text-align: right;\">\n",
       "      <th></th>\n",
       "      <th>Id</th>\n",
       "      <th>Titles</th>\n",
       "      <th>Upvotes</th>\n",
       "      <th>Popularity Score</th>\n",
       "    </tr>\n",
       "  </thead>\n",
       "  <tbody>\n",
       "    <tr>\n",
       "      <th>0</th>\n",
       "      <td>1l01745</td>\n",
       "      <td>Great post!</td>\n",
       "      <td>1</td>\n",
       "      <td>best</td>\n",
       "    </tr>\n",
       "    <tr>\n",
       "      <th>10</th>\n",
       "      <td>1kwdnij</td>\n",
       "      <td>Testing a new bot feature! 🤖</td>\n",
       "      <td>1</td>\n",
       "      <td>best</td>\n",
       "    </tr>\n",
       "    <tr>\n",
       "      <th>1</th>\n",
       "      <td>1kzw05w</td>\n",
       "      <td>Test</td>\n",
       "      <td>1</td>\n",
       "      <td>best</td>\n",
       "    </tr>\n",
       "    <tr>\n",
       "      <th>2</th>\n",
       "      <td>1kz99uk</td>\n",
       "      <td>Content only</td>\n",
       "      <td>1</td>\n",
       "      <td>best</td>\n",
       "    </tr>\n",
       "    <tr>\n",
       "      <th>3</th>\n",
       "      <td>1kyy3b3</td>\n",
       "      <td>F1 Graph</td>\n",
       "      <td>1</td>\n",
       "      <td>best</td>\n",
       "    </tr>\n",
       "  </tbody>\n",
       "</table>\n",
       "</div>"
      ],
      "text/plain": [
       "         Id                        Titles  Upvotes Popularity Score\n",
       "0   1l01745                   Great post!        1             best\n",
       "10  1kwdnij  Testing a new bot feature! 🤖        1             best\n",
       "1   1kzw05w                          Test        1             best\n",
       "2   1kz99uk                  Content only        1             best\n",
       "3   1kyy3b3                      F1 Graph        1             best"
      ]
     },
     "execution_count": 24,
     "metadata": {},
     "output_type": "execute_result"
    }
   ],
   "source": [
    "df1.head()"
   ]
  },
  {
   "cell_type": "code",
   "execution_count": 37,
   "id": "daa6d017",
   "metadata": {},
   "outputs": [
    {
     "data": {
      "text/plain": [
       "<Axes: xlabel='Upvotes', ylabel='Popularity Score'>"
      ]
     },
     "execution_count": 37,
     "metadata": {},
     "output_type": "execute_result"
    },
    {
     "data": {
      "image/png": "[encoded data removed]",
      "text/plain": [
       "<Figure size 640x480 with 1 Axes>"
      ]
     },
     "metadata": {},
     "output_type": "display_data"
    }
   ],
   "source": [
    "sns.scatterplot(x=df1[\"Upvotes\"], y=df1[\"Popularity Score\"], data=df1)"
   ]
  },
  {
   "cell_type": "code",
   "execution_count": 25,
   "id": "a7c69bbd",
   "metadata": {},
   "outputs": [
    {
     "data": {
      "text/plain": [
       "pandas.core.frame.DataFrame"
      ]
     },
     "execution_count": 25,
     "metadata": {},
     "output_type": "execute_result"
    }
   ],
   "source": [
    "type(df1)"
   ]
  },
  {
   "cell_type": "code",
   "execution_count": 26,
   "id": "128223ec",
   "metadata": {},
   "outputs": [
    {
     "data": {
      "text/plain": [
       "(100, 4)"
      ]
     },
     "execution_count": 26,
     "metadata": {},
     "output_type": "execute_result"
    }
   ],
   "source": [
    "df1.shape"
   ]
  },
  {
   "cell_type": "code",
   "execution_count": 27,
   "id": "6081c636",
   "metadata": {},
   "outputs": [
    {
     "data": {
      "text/html": [
       "<div>\n",
       "<style scoped>\n",
       "    .dataframe tbody tr th:only-of-type {\n",
       "        vertical-align: middle;\n",
       "    }\n",
       "\n",
       "    .dataframe tbody tr th {\n",
       "        vertical-align: top;\n",
       "    }\n",
       "\n",
       "    .dataframe thead th {\n",
       "        text-align: right;\n",
       "    }\n",
       "</style>\n",
       "<table border=\"1\" class=\"dataframe\">\n",
       "  <thead>\n",
       "    <tr style=\"text-align: right;\">\n",
       "      <th></th>\n",
       "      <th>Id</th>\n",
       "      <th>Titles</th>\n",
       "      <th>Upvotes</th>\n",
       "    </tr>\n",
       "  </thead>\n",
       "  <tbody>\n",
       "    <tr>\n",
       "      <th>46</th>\n",
       "      <td>1kppyfn</td>\n",
       "      <td>test</td>\n",
       "      <td>2</td>\n",
       "    </tr>\n",
       "    <tr>\n",
       "      <th>37</th>\n",
       "      <td>1kqjrcf</td>\n",
       "      <td>Hello test</td>\n",
       "      <td>2</td>\n",
       "    </tr>\n",
       "    <tr>\n",
       "      <th>88</th>\n",
       "      <td>1kmfk08</td>\n",
       "      <td>Databricks Acquires Neon for $1B to Supercharg...</td>\n",
       "      <td>2</td>\n",
       "    </tr>\n",
       "    <tr>\n",
       "      <th>97</th>\n",
       "      <td>1klzvz0</td>\n",
       "      <td>GenAI Attack Chains: The Dual Role of AI in Cy...</td>\n",
       "      <td>2</td>\n",
       "    </tr>\n",
       "    <tr>\n",
       "      <th>85</th>\n",
       "      <td>1ko7so7</td>\n",
       "      <td>test</td>\n",
       "      <td>3</td>\n",
       "    </tr>\n",
       "  </tbody>\n",
       "</table>\n",
       "</div>"
      ],
      "text/plain": [
       "         Id                                             Titles  Upvotes\n",
       "46  1kppyfn                                               test        2\n",
       "37  1kqjrcf                                         Hello test        2\n",
       "88  1kmfk08  Databricks Acquires Neon for $1B to Supercharg...        2\n",
       "97  1klzvz0  GenAI Attack Chains: The Dual Role of AI in Cy...        2\n",
       "85  1ko7so7                                               test        3"
      ]
     },
     "execution_count": 27,
     "metadata": {},
     "output_type": "execute_result"
    }
   ],
   "source": [
    "df.tail()"
   ]
  },
  {
   "cell_type": "code",
   "execution_count": 28,
   "id": "b1eb7e18",
   "metadata": {},
   "outputs": [
    {
     "data": {
      "text/html": [
       "<div>\n",
       "<style scoped>\n",
       "    .dataframe tbody tr th:only-of-type {\n",
       "        vertical-align: middle;\n",
       "    }\n",
       "\n",
       "    .dataframe tbody tr th {\n",
       "        vertical-align: top;\n",
       "    }\n",
       "\n",
       "    .dataframe thead th {\n",
       "        text-align: right;\n",
       "    }\n",
       "</style>\n",
       "<table border=\"1\" class=\"dataframe\">\n",
       "  <thead>\n",
       "    <tr style=\"text-align: right;\">\n",
       "      <th></th>\n",
       "      <th>Id</th>\n",
       "      <th>Titles</th>\n",
       "      <th>Upvotes</th>\n",
       "    </tr>\n",
       "  </thead>\n",
       "  <tbody>\n",
       "    <tr>\n",
       "      <th>80</th>\n",
       "      <td>1kow486</td>\n",
       "      <td>Article</td>\n",
       "      <td>1</td>\n",
       "    </tr>\n",
       "    <tr>\n",
       "      <th>73</th>\n",
       "      <td>1kp2ghp</td>\n",
       "      <td>Default H1 - Review LLM Output</td>\n",
       "      <td>1</td>\n",
       "    </tr>\n",
       "    <tr>\n",
       "      <th>82</th>\n",
       "      <td>1kow31i</td>\n",
       "      <td>Article</td>\n",
       "      <td>1</td>\n",
       "    </tr>\n",
       "    <tr>\n",
       "      <th>83</th>\n",
       "      <td>1kow2gg</td>\n",
       "      <td>Article</td>\n",
       "      <td>1</td>\n",
       "    </tr>\n",
       "    <tr>\n",
       "      <th>81</th>\n",
       "      <td>1kow3l1</td>\n",
       "      <td>Article</td>\n",
       "      <td>1</td>\n",
       "    </tr>\n",
       "    <tr>\n",
       "      <th>86</th>\n",
       "      <td>1koe2kj</td>\n",
       "      <td>Silicon Valley’s Growing Influence in Washingt...</td>\n",
       "      <td>1</td>\n",
       "    </tr>\n",
       "    <tr>\n",
       "      <th>87</th>\n",
       "      <td>1knnera</td>\n",
       "      <td>Test Post</td>\n",
       "      <td>1</td>\n",
       "    </tr>\n",
       "    <tr>\n",
       "      <th>89</th>\n",
       "      <td>1kmj3on</td>\n",
       "      <td>DeepMind AlphaEvolve AI: Revolutionizing Math ...</td>\n",
       "      <td>1</td>\n",
       "    </tr>\n",
       "    <tr>\n",
       "      <th>90</th>\n",
       "      <td>1kmj32k</td>\n",
       "      <td>AlphaEvolve AI Breakthrough: Google’s Self-Cod...</td>\n",
       "      <td>1</td>\n",
       "    </tr>\n",
       "    <tr>\n",
       "      <th>91</th>\n",
       "      <td>1kmj2gr</td>\n",
       "      <td>AlphaEvolve AI Agent Surpasses Human Expertise...</td>\n",
       "      <td>1</td>\n",
       "    </tr>\n",
       "    <tr>\n",
       "      <th>92</th>\n",
       "      <td>1kmj1u0</td>\n",
       "      <td>OpenAI Eyes UAE Data Centers to Strengthen Mid...</td>\n",
       "      <td>1</td>\n",
       "    </tr>\n",
       "    <tr>\n",
       "      <th>93</th>\n",
       "      <td>1kmj17s</td>\n",
       "      <td>PixArt-Sigma AI Image Generation Delivers 4K R...</td>\n",
       "      <td>1</td>\n",
       "    </tr>\n",
       "    <tr>\n",
       "      <th>94</th>\n",
       "      <td>1kmh051</td>\n",
       "      <td>Google’s Gemini GitHub Integration Unlocks AI-...</td>\n",
       "      <td>1</td>\n",
       "    </tr>\n",
       "    <tr>\n",
       "      <th>95</th>\n",
       "      <td>1kmfjg6</td>\n",
       "      <td>Don Diablo’s BLACKOUT Music Video Pushes Bound...</td>\n",
       "      <td>1</td>\n",
       "    </tr>\n",
       "    <tr>\n",
       "      <th>84</th>\n",
       "      <td>1kojjtm</td>\n",
       "      <td>Google AlphaEvolve AI: The Autonomous Agent Re...</td>\n",
       "      <td>1</td>\n",
       "    </tr>\n",
       "    <tr>\n",
       "      <th>46</th>\n",
       "      <td>1kppyfn</td>\n",
       "      <td>test</td>\n",
       "      <td>2</td>\n",
       "    </tr>\n",
       "    <tr>\n",
       "      <th>37</th>\n",
       "      <td>1kqjrcf</td>\n",
       "      <td>Hello test</td>\n",
       "      <td>2</td>\n",
       "    </tr>\n",
       "    <tr>\n",
       "      <th>88</th>\n",
       "      <td>1kmfk08</td>\n",
       "      <td>Databricks Acquires Neon for $1B to Supercharg...</td>\n",
       "      <td>2</td>\n",
       "    </tr>\n",
       "    <tr>\n",
       "      <th>97</th>\n",
       "      <td>1klzvz0</td>\n",
       "      <td>GenAI Attack Chains: The Dual Role of AI in Cy...</td>\n",
       "      <td>2</td>\n",
       "    </tr>\n",
       "    <tr>\n",
       "      <th>85</th>\n",
       "      <td>1ko7so7</td>\n",
       "      <td>test</td>\n",
       "      <td>3</td>\n",
       "    </tr>\n",
       "  </tbody>\n",
       "</table>\n",
       "</div>"
      ],
      "text/plain": [
       "         Id                                             Titles  Upvotes\n",
       "80  1kow486                                            Article        1\n",
       "73  1kp2ghp                     Default H1 - Review LLM Output        1\n",
       "82  1kow31i                                            Article        1\n",
       "83  1kow2gg                                            Article        1\n",
       "81  1kow3l1                                            Article        1\n",
       "86  1koe2kj  Silicon Valley’s Growing Influence in Washingt...        1\n",
       "87  1knnera                                          Test Post        1\n",
       "89  1kmj3on  DeepMind AlphaEvolve AI: Revolutionizing Math ...        1\n",
       "90  1kmj32k  AlphaEvolve AI Breakthrough: Google’s Self-Cod...        1\n",
       "91  1kmj2gr  AlphaEvolve AI Agent Surpasses Human Expertise...        1\n",
       "92  1kmj1u0  OpenAI Eyes UAE Data Centers to Strengthen Mid...        1\n",
       "93  1kmj17s  PixArt-Sigma AI Image Generation Delivers 4K R...        1\n",
       "94  1kmh051  Google’s Gemini GitHub Integration Unlocks AI-...        1\n",
       "95  1kmfjg6  Don Diablo’s BLACKOUT Music Video Pushes Bound...        1\n",
       "84  1kojjtm  Google AlphaEvolve AI: The Autonomous Agent Re...        1\n",
       "46  1kppyfn                                               test        2\n",
       "37  1kqjrcf                                         Hello test        2\n",
       "88  1kmfk08  Databricks Acquires Neon for $1B to Supercharg...        2\n",
       "97  1klzvz0  GenAI Attack Chains: The Dual Role of AI in Cy...        2\n",
       "85  1ko7so7                                               test        3"
      ]
     },
     "execution_count": 28,
     "metadata": {},
     "output_type": "execute_result"
    }
   ],
   "source": [
    "df.tail(20)"
   ]
  },
  {
   "cell_type": "code",
   "execution_count": 29,
   "id": "ca3b015d",
   "metadata": {},
   "outputs": [
    {
     "data": {
      "text/plain": [
       "-           28\n",
       "llm         27\n",
       "h1          27\n",
       "default     27\n",
       "response    20\n",
       "or          20\n",
       "invalid     20\n",
       "missing     20\n",
       "test        16\n",
       "this        11\n",
       "dtype: int64"
      ]
     },
     "execution_count": 29,
     "metadata": {},
     "output_type": "execute_result"
    }
   ],
   "source": [
    "def word_count(df, column):\n",
    "    dictionary={}\n",
    "    for idx, row in df.iterrows():\n",
    "        split = row[column].lower().split(\" \")\n",
    "        for word in split:\n",
    "            if word in dictionary:\n",
    "                dictionary[word] += 1\n",
    "            else:\n",
    "                dictionary[word] = 1\n",
    "    dictionary = pd.Series(dictionary)\n",
    "    dictionary = dictionary.sort_values(ascending=False)\n",
    "    return dictionary\n",
    "\n",
    "top_counts = word_count(df, \"Titles\")\n",
    "top_counts[0:10]"
   ]
  },
  {
   "cell_type": "code",
   "execution_count": null,
   "id": "a9b214c6",
   "metadata": {},
   "outputs": [],
   "source": []
  }
 ],
 "metadata": {
  "kernelspec": {
   "display_name": "Python 3 (ipykernel)",
   "language": "python",
   "name": "python3"
  },
  "language_info": {
   "codemirror_mode": {
    "name": "ipython",
    "version": 3
   },
   "file_extension": ".py",
   "mimetype": "text/x-python",
   "name": "python",
   "nbconvert_exporter": "python",
   "pygments_lexer": "ipython3",
   "version": "3.11.5"
  }
 },
 "nbformat": 4,
 "nbformat_minor": 5
}
