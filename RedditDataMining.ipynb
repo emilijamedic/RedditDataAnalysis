{
 "cells": [
  {
   "cell_type": "code",
   "execution_count": 27,
   "id": "d7e89d2a",
   "metadata": {},
   "outputs": [
    {
     "name": "stdout",
     "output_type": "stream",
     "text": [
      "Requirement already satisfied: praw in c:\\users\\ema\\anaconda3\\lib\\site-packages (7.8.1)\n",
      "Requirement already satisfied: prawcore<3,>=2.4 in c:\\users\\ema\\anaconda3\\lib\\site-packages (from praw) (2.4.0)\n",
      "Requirement already satisfied: update_checker>=0.18 in c:\\users\\ema\\anaconda3\\lib\\site-packages (from praw) (0.18.0)\n",
      "Requirement already satisfied: websocket-client>=0.54.0 in c:\\users\\ema\\anaconda3\\lib\\site-packages (from praw) (0.58.0)\n",
      "Requirement already satisfied: requests<3.0,>=2.6.0 in c:\\users\\ema\\anaconda3\\lib\\site-packages (from prawcore<3,>=2.4->praw) (2.31.0)\n",
      "Requirement already satisfied: six in c:\\users\\ema\\anaconda3\\lib\\site-packages (from websocket-client>=0.54.0->praw) (1.16.0)\n",
      "Requirement already satisfied: charset-normalizer<4,>=2 in c:\\users\\ema\\anaconda3\\lib\\site-packages (from requests<3.0,>=2.6.0->prawcore<3,>=2.4->praw) (2.0.4)\n",
      "Requirement already satisfied: idna<4,>=2.5 in c:\\users\\ema\\anaconda3\\lib\\site-packages (from requests<3.0,>=2.6.0->prawcore<3,>=2.4->praw) (3.4)\n",
      "Requirement already satisfied: urllib3<3,>=1.21.1 in c:\\users\\ema\\anaconda3\\lib\\site-packages (from requests<3.0,>=2.6.0->prawcore<3,>=2.4->praw) (1.26.16)\n",
      "Requirement already satisfied: certifi>=2017.4.17 in c:\\users\\ema\\anaconda3\\lib\\site-packages (from requests<3.0,>=2.6.0->prawcore<3,>=2.4->praw) (2023.7.22)\n"
     ]
    }
   ],
   "source": [
    "!pip install praw"
   ]
  },
  {
   "cell_type": "code",
   "execution_count": 28,
   "id": "bdd15646",
   "metadata": {},
   "outputs": [
    {
     "name": "stdout",
     "output_type": "stream",
     "text": [
      "cats\n"
     ]
    }
   ],
   "source": [
    "import praw\n",
    "import pandas as pd\n",
    "import seaborn as sns\n",
    "import numpy as np\n",
    "\n",
    "#enter your credentials\n",
    "username=\"\"\n",
    "client_id=\"\"\n",
    "client_secret=\"\"\n",
    "password=\"\"\n",
    "\n",
    "reddit_instance=praw.Reddit(\n",
    "    username=username,\n",
    "    client_id=client_id,\n",
    "    client_secret=client_secret,\n",
    "    password=password,\n",
    "    user_agent=\"test_bot\"\n",
    ")\n",
    "\n",
    "#print(reddit_instance.user.me())\n",
    "subreddit = reddit_instance.subreddit(\"cats\")\n",
    "#to verify that you're connected\n",
    "print(subreddit)"
   ]
  },
  {
   "cell_type": "code",
   "execution_count": 29,
   "id": "c63675a8",
   "metadata": {},
   "outputs": [],
   "source": [
    "import pandas as pd\n",
    "df=pd.DataFrame()\n",
    "titles=[]\n",
    "scores=[]\n",
    "ids=[]"
   ]
  },
  {
   "cell_type": "code",
   "execution_count": 30,
   "id": "6ebb98b0",
   "metadata": {},
   "outputs": [
    {
     "name": "stdout",
     "output_type": "stream",
     "text": [
      "         Id                                             Titles  Upvotes\n",
      "1   1l0kocd  Discussion Thread #11 - Chat & Discuss Anythin...        3\n",
      "92  1l0w9nu  Found this guy in a thorn bush, now we’re best...       10\n",
      "97  1l0ug5j                  Will this kitten have longer hair       12\n",
      "91  1l0vw63              Smart Orange opens door for his owner       12\n",
      "96  1l0umvb  Cats are part time models & they don’t even kn...       13\n",
      "..      ...                                                ...      ...\n",
      "3   1l0ow8r  A cat lying down in the Hagia Sophia mosque in...     9678\n",
      "31  1kzz37j                              The OG cat whisperer.    10673\n",
      "4   1l0jrky                                    calm down buddy    17741\n",
      "21  1l02k0e  I adopted this 14 year old cat from the shelte...    30156\n",
      "12  1l0c91p                          what is this move called?    48068\n",
      "\n",
      "[100 rows x 3 columns]\n"
     ]
    }
   ],
   "source": [
    "posts=subreddit.hot(limit=100)\n",
    "for post in posts:\n",
    "    titles.append(post.title)\n",
    "    scores.append(post.score) #upvotes\n",
    "    ids.append(post.id)\n",
    "df['Id']=ids   \n",
    "df['Titles'] = titles\n",
    "df['Upvotes'] = scores\n",
    "df = df.sort_values(by=['Upvotes'])\n",
    "print(df)"
   ]
  },
  {
   "cell_type": "code",
   "execution_count": 31,
   "id": "9c7f15fb",
   "metadata": {},
   "outputs": [
    {
     "data": {
      "text/html": [
       "<div>\n",
       "<style scoped>\n",
       "    .dataframe tbody tr th:only-of-type {\n",
       "        vertical-align: middle;\n",
       "    }\n",
       "\n",
       "    .dataframe tbody tr th {\n",
       "        vertical-align: top;\n",
       "    }\n",
       "\n",
       "    .dataframe thead th {\n",
       "        text-align: right;\n",
       "    }\n",
       "</style>\n",
       "<table border=\"1\" class=\"dataframe\">\n",
       "  <thead>\n",
       "    <tr style=\"text-align: right;\">\n",
       "      <th></th>\n",
       "      <th>Id</th>\n",
       "      <th>Titles</th>\n",
       "      <th>Upvotes</th>\n",
       "    </tr>\n",
       "  </thead>\n",
       "  <tbody>\n",
       "    <tr>\n",
       "      <th>1</th>\n",
       "      <td>1l0kocd</td>\n",
       "      <td>Discussion Thread #11 - Chat &amp; Discuss Anythin...</td>\n",
       "      <td>3</td>\n",
       "    </tr>\n",
       "    <tr>\n",
       "      <th>92</th>\n",
       "      <td>1l0w9nu</td>\n",
       "      <td>Found this guy in a thorn bush, now we’re best...</td>\n",
       "      <td>10</td>\n",
       "    </tr>\n",
       "    <tr>\n",
       "      <th>97</th>\n",
       "      <td>1l0ug5j</td>\n",
       "      <td>Will this kitten have longer hair</td>\n",
       "      <td>12</td>\n",
       "    </tr>\n",
       "    <tr>\n",
       "      <th>91</th>\n",
       "      <td>1l0vw63</td>\n",
       "      <td>Smart Orange opens door for his owner</td>\n",
       "      <td>12</td>\n",
       "    </tr>\n",
       "    <tr>\n",
       "      <th>96</th>\n",
       "      <td>1l0umvb</td>\n",
       "      <td>Cats are part time models &amp; they don’t even kn...</td>\n",
       "      <td>13</td>\n",
       "    </tr>\n",
       "  </tbody>\n",
       "</table>\n",
       "</div>"
      ],
      "text/plain": [
       "         Id                                             Titles  Upvotes\n",
       "1   1l0kocd  Discussion Thread #11 - Chat & Discuss Anythin...        3\n",
       "92  1l0w9nu  Found this guy in a thorn bush, now we’re best...       10\n",
       "97  1l0ug5j                  Will this kitten have longer hair       12\n",
       "91  1l0vw63              Smart Orange opens door for his owner       12\n",
       "96  1l0umvb  Cats are part time models & they don’t even kn...       13"
      ]
     },
     "execution_count": 31,
     "metadata": {},
     "output_type": "execute_result"
    }
   ],
   "source": [
    "df.head()"
   ]
  },
  {
   "cell_type": "code",
   "execution_count": 32,
   "id": "37952430",
   "metadata": {},
   "outputs": [
    {
     "name": "stdout",
     "output_type": "stream",
     "text": [
      "<class 'pandas.core.frame.DataFrame'>\n",
      "Index: 100 entries, 1 to 12\n",
      "Data columns (total 3 columns):\n",
      " #   Column   Non-Null Count  Dtype \n",
      "---  ------   --------------  ----- \n",
      " 0   Id       100 non-null    object\n",
      " 1   Titles   100 non-null    object\n",
      " 2   Upvotes  100 non-null    int64 \n",
      "dtypes: int64(1), object(2)\n",
      "memory usage: 3.1+ KB\n"
     ]
    }
   ],
   "source": [
    "df.info()"
   ]
  },
  {
   "cell_type": "code",
   "execution_count": 33,
   "id": "adc97d41",
   "metadata": {},
   "outputs": [
    {
     "data": {
      "text/html": [
       "<div>\n",
       "<style scoped>\n",
       "    .dataframe tbody tr th:only-of-type {\n",
       "        vertical-align: middle;\n",
       "    }\n",
       "\n",
       "    .dataframe tbody tr th {\n",
       "        vertical-align: top;\n",
       "    }\n",
       "\n",
       "    .dataframe thead th {\n",
       "        text-align: right;\n",
       "    }\n",
       "</style>\n",
       "<table border=\"1\" class=\"dataframe\">\n",
       "  <thead>\n",
       "    <tr style=\"text-align: right;\">\n",
       "      <th></th>\n",
       "      <th>Id</th>\n",
       "      <th>Titles</th>\n",
       "      <th>Upvotes</th>\n",
       "    </tr>\n",
       "  </thead>\n",
       "  <tbody>\n",
       "    <tr>\n",
       "      <th>1</th>\n",
       "      <td>1l0kocd</td>\n",
       "      <td>Discussion Thread #11 - Chat &amp; Discuss Anythin...</td>\n",
       "      <td>3</td>\n",
       "    </tr>\n",
       "    <tr>\n",
       "      <th>92</th>\n",
       "      <td>1l0w9nu</td>\n",
       "      <td>Found this guy in a thorn bush, now we’re best...</td>\n",
       "      <td>10</td>\n",
       "    </tr>\n",
       "    <tr>\n",
       "      <th>97</th>\n",
       "      <td>1l0ug5j</td>\n",
       "      <td>Will this kitten have longer hair</td>\n",
       "      <td>12</td>\n",
       "    </tr>\n",
       "    <tr>\n",
       "      <th>91</th>\n",
       "      <td>1l0vw63</td>\n",
       "      <td>Smart Orange opens door for his owner</td>\n",
       "      <td>12</td>\n",
       "    </tr>\n",
       "    <tr>\n",
       "      <th>96</th>\n",
       "      <td>1l0umvb</td>\n",
       "      <td>Cats are part time models &amp; they don’t even kn...</td>\n",
       "      <td>13</td>\n",
       "    </tr>\n",
       "    <tr>\n",
       "      <th>81</th>\n",
       "      <td>1l0usty</td>\n",
       "      <td>Cheesecake stretching!</td>\n",
       "      <td>13</td>\n",
       "    </tr>\n",
       "    <tr>\n",
       "      <th>93</th>\n",
       "      <td>1l0uryn</td>\n",
       "      <td>Cat doesn’t want to cuddle, he just wants to *...</td>\n",
       "      <td>13</td>\n",
       "    </tr>\n",
       "    <tr>\n",
       "      <th>87</th>\n",
       "      <td>1l0urqx</td>\n",
       "      <td>He needs a name!</td>\n",
       "      <td>15</td>\n",
       "    </tr>\n",
       "    <tr>\n",
       "      <th>86</th>\n",
       "      <td>1l0tppp</td>\n",
       "      <td>Smiley Cat</td>\n",
       "      <td>15</td>\n",
       "    </tr>\n",
       "    <tr>\n",
       "      <th>69</th>\n",
       "      <td>1l0wcmn</td>\n",
       "      <td>The cat distribution center made me a grandma....</td>\n",
       "      <td>16</td>\n",
       "    </tr>\n",
       "  </tbody>\n",
       "</table>\n",
       "</div>"
      ],
      "text/plain": [
       "         Id                                             Titles  Upvotes\n",
       "1   1l0kocd  Discussion Thread #11 - Chat & Discuss Anythin...        3\n",
       "92  1l0w9nu  Found this guy in a thorn bush, now we’re best...       10\n",
       "97  1l0ug5j                  Will this kitten have longer hair       12\n",
       "91  1l0vw63              Smart Orange opens door for his owner       12\n",
       "96  1l0umvb  Cats are part time models & they don’t even kn...       13\n",
       "81  1l0usty                             Cheesecake stretching!       13\n",
       "93  1l0uryn  Cat doesn’t want to cuddle, he just wants to *...       13\n",
       "87  1l0urqx                                   He needs a name!       15\n",
       "86  1l0tppp                                         Smiley Cat       15\n",
       "69  1l0wcmn  The cat distribution center made me a grandma....       16"
      ]
     },
     "execution_count": 33,
     "metadata": {},
     "output_type": "execute_result"
    }
   ],
   "source": [
    "df = df.sort_values(by=['Upvotes'], ascending=True)\n",
    "df.head(10)"
   ]
  },
  {
   "cell_type": "code",
   "execution_count": 34,
   "id": "d5421ee0",
   "metadata": {},
   "outputs": [],
   "source": [
    "df1 = df.copy()"
   ]
  },
  {
   "cell_type": "code",
   "execution_count": 35,
   "id": "f4ded80f",
   "metadata": {},
   "outputs": [
    {
     "data": {
      "text/html": [
       "<div>\n",
       "<style scoped>\n",
       "    .dataframe tbody tr th:only-of-type {\n",
       "        vertical-align: middle;\n",
       "    }\n",
       "\n",
       "    .dataframe tbody tr th {\n",
       "        vertical-align: top;\n",
       "    }\n",
       "\n",
       "    .dataframe thead th {\n",
       "        text-align: right;\n",
       "    }\n",
       "</style>\n",
       "<table border=\"1\" class=\"dataframe\">\n",
       "  <thead>\n",
       "    <tr style=\"text-align: right;\">\n",
       "      <th></th>\n",
       "      <th>Id</th>\n",
       "      <th>Titles</th>\n",
       "      <th>Upvotes</th>\n",
       "    </tr>\n",
       "  </thead>\n",
       "  <tbody>\n",
       "    <tr>\n",
       "      <th>1</th>\n",
       "      <td>1l0kocd</td>\n",
       "      <td>Discussion Thread #11 - Chat &amp; Discuss Anythin...</td>\n",
       "      <td>3</td>\n",
       "    </tr>\n",
       "    <tr>\n",
       "      <th>92</th>\n",
       "      <td>1l0w9nu</td>\n",
       "      <td>Found this guy in a thorn bush, now we’re best...</td>\n",
       "      <td>10</td>\n",
       "    </tr>\n",
       "    <tr>\n",
       "      <th>97</th>\n",
       "      <td>1l0ug5j</td>\n",
       "      <td>Will this kitten have longer hair</td>\n",
       "      <td>12</td>\n",
       "    </tr>\n",
       "    <tr>\n",
       "      <th>91</th>\n",
       "      <td>1l0vw63</td>\n",
       "      <td>Smart Orange opens door for his owner</td>\n",
       "      <td>12</td>\n",
       "    </tr>\n",
       "    <tr>\n",
       "      <th>96</th>\n",
       "      <td>1l0umvb</td>\n",
       "      <td>Cats are part time models &amp; they don’t even kn...</td>\n",
       "      <td>13</td>\n",
       "    </tr>\n",
       "  </tbody>\n",
       "</table>\n",
       "</div>"
      ],
      "text/plain": [
       "         Id                                             Titles  Upvotes\n",
       "1   1l0kocd  Discussion Thread #11 - Chat & Discuss Anythin...        3\n",
       "92  1l0w9nu  Found this guy in a thorn bush, now we’re best...       10\n",
       "97  1l0ug5j                  Will this kitten have longer hair       12\n",
       "91  1l0vw63              Smart Orange opens door for his owner       12\n",
       "96  1l0umvb  Cats are part time models & they don’t even kn...       13"
      ]
     },
     "execution_count": 35,
     "metadata": {},
     "output_type": "execute_result"
    }
   ],
   "source": [
    "df1.head()"
   ]
  },
  {
   "cell_type": "code",
   "execution_count": 36,
   "id": "8ae14545",
   "metadata": {},
   "outputs": [],
   "source": [
    "df1['Popularity Score'] = df1.loc[df['Upvotes']>1000] = \"best\""
   ]
  },
  {
   "cell_type": "code",
   "execution_count": 37,
   "id": "6afa85b2",
   "metadata": {},
   "outputs": [],
   "source": [
    "df1['Popularity Score'] = df1.loc[df['Upvotes']>100] = \"hot\""
   ]
  },
  {
   "cell_type": "code",
   "execution_count": 38,
   "id": "5440a4e5",
   "metadata": {},
   "outputs": [],
   "source": [
    "df1['Popularity Score'] = df1.loc[df['Upvotes']>10] = \"great\""
   ]
  },
  {
   "cell_type": "code",
   "execution_count": 39,
   "id": "0b26a44a",
   "metadata": {},
   "outputs": [],
   "source": [
    "df1['Popularity Score'] = df1.loc[df['Upvotes']==0] = \"new\""
   ]
  },
  {
   "cell_type": "code",
   "execution_count": 48,
   "id": "7b051e0b",
   "metadata": {},
   "outputs": [
    {
     "data": {
      "text/html": [
       "<div>\n",
       "<style scoped>\n",
       "    .dataframe tbody tr th:only-of-type {\n",
       "        vertical-align: middle;\n",
       "    }\n",
       "\n",
       "    .dataframe tbody tr th {\n",
       "        vertical-align: top;\n",
       "    }\n",
       "\n",
       "    .dataframe thead th {\n",
       "        text-align: right;\n",
       "    }\n",
       "</style>\n",
       "<table border=\"1\" class=\"dataframe\">\n",
       "  <thead>\n",
       "    <tr style=\"text-align: right;\">\n",
       "      <th></th>\n",
       "      <th>Id</th>\n",
       "      <th>Titles</th>\n",
       "      <th>Upvotes</th>\n",
       "      <th>Popularity Score</th>\n",
       "    </tr>\n",
       "  </thead>\n",
       "  <tbody>\n",
       "    <tr>\n",
       "      <th>1</th>\n",
       "      <td>1l0kocd</td>\n",
       "      <td>Discussion Thread #11 - Chat &amp; Discuss Anythin...</td>\n",
       "      <td>3</td>\n",
       "      <td>new</td>\n",
       "    </tr>\n",
       "    <tr>\n",
       "      <th>92</th>\n",
       "      <td>1l0w9nu</td>\n",
       "      <td>Found this guy in a thorn bush, now we’re best...</td>\n",
       "      <td>10</td>\n",
       "      <td>new</td>\n",
       "    </tr>\n",
       "    <tr>\n",
       "      <th>97</th>\n",
       "      <td>great</td>\n",
       "      <td>great</td>\n",
       "      <td>great</td>\n",
       "      <td>new</td>\n",
       "    </tr>\n",
       "    <tr>\n",
       "      <th>91</th>\n",
       "      <td>great</td>\n",
       "      <td>great</td>\n",
       "      <td>great</td>\n",
       "      <td>new</td>\n",
       "    </tr>\n",
       "    <tr>\n",
       "      <th>96</th>\n",
       "      <td>great</td>\n",
       "      <td>great</td>\n",
       "      <td>great</td>\n",
       "      <td>new</td>\n",
       "    </tr>\n",
       "  </tbody>\n",
       "</table>\n",
       "</div>"
      ],
      "text/plain": [
       "         Id                                             Titles Upvotes  \\\n",
       "1   1l0kocd  Discussion Thread #11 - Chat & Discuss Anythin...       3   \n",
       "92  1l0w9nu  Found this guy in a thorn bush, now we’re best...      10   \n",
       "97    great                                              great   great   \n",
       "91    great                                              great   great   \n",
       "96    great                                              great   great   \n",
       "\n",
       "   Popularity Score  \n",
       "1               new  \n",
       "92              new  \n",
       "97              new  \n",
       "91              new  \n",
       "96              new  "
      ]
     },
     "execution_count": 48,
     "metadata": {},
     "output_type": "execute_result"
    }
   ],
   "source": [
    "df1.head()"
   ]
  },
  {
   "cell_type": "code",
   "execution_count": 41,
   "id": "a7c69bbd",
   "metadata": {},
   "outputs": [
    {
     "data": {
      "text/plain": [
       "pandas.core.frame.DataFrame"
      ]
     },
     "execution_count": 41,
     "metadata": {},
     "output_type": "execute_result"
    }
   ],
   "source": [
    "type(df1)"
   ]
  },
  {
   "cell_type": "code",
   "execution_count": 42,
   "id": "128223ec",
   "metadata": {},
   "outputs": [
    {
     "data": {
      "text/plain": [
       "(100, 4)"
      ]
     },
     "execution_count": 42,
     "metadata": {},
     "output_type": "execute_result"
    }
   ],
   "source": [
    "df1.shape"
   ]
  },
  {
   "cell_type": "code",
   "execution_count": 43,
   "id": "6081c636",
   "metadata": {},
   "outputs": [
    {
     "data": {
      "text/html": [
       "<div>\n",
       "<style scoped>\n",
       "    .dataframe tbody tr th:only-of-type {\n",
       "        vertical-align: middle;\n",
       "    }\n",
       "\n",
       "    .dataframe tbody tr th {\n",
       "        vertical-align: top;\n",
       "    }\n",
       "\n",
       "    .dataframe thead th {\n",
       "        text-align: right;\n",
       "    }\n",
       "</style>\n",
       "<table border=\"1\" class=\"dataframe\">\n",
       "  <thead>\n",
       "    <tr style=\"text-align: right;\">\n",
       "      <th></th>\n",
       "      <th>Id</th>\n",
       "      <th>Titles</th>\n",
       "      <th>Upvotes</th>\n",
       "    </tr>\n",
       "  </thead>\n",
       "  <tbody>\n",
       "    <tr>\n",
       "      <th>3</th>\n",
       "      <td>1l0ow8r</td>\n",
       "      <td>A cat lying down in the Hagia Sophia mosque in...</td>\n",
       "      <td>9678</td>\n",
       "    </tr>\n",
       "    <tr>\n",
       "      <th>31</th>\n",
       "      <td>1kzz37j</td>\n",
       "      <td>The OG cat whisperer.</td>\n",
       "      <td>10673</td>\n",
       "    </tr>\n",
       "    <tr>\n",
       "      <th>4</th>\n",
       "      <td>1l0jrky</td>\n",
       "      <td>calm down buddy</td>\n",
       "      <td>17741</td>\n",
       "    </tr>\n",
       "    <tr>\n",
       "      <th>21</th>\n",
       "      <td>1l02k0e</td>\n",
       "      <td>I adopted this 14 year old cat from the shelte...</td>\n",
       "      <td>30156</td>\n",
       "    </tr>\n",
       "    <tr>\n",
       "      <th>12</th>\n",
       "      <td>1l0c91p</td>\n",
       "      <td>what is this move called?</td>\n",
       "      <td>48068</td>\n",
       "    </tr>\n",
       "  </tbody>\n",
       "</table>\n",
       "</div>"
      ],
      "text/plain": [
       "         Id                                             Titles  Upvotes\n",
       "3   1l0ow8r  A cat lying down in the Hagia Sophia mosque in...     9678\n",
       "31  1kzz37j                              The OG cat whisperer.    10673\n",
       "4   1l0jrky                                    calm down buddy    17741\n",
       "21  1l02k0e  I adopted this 14 year old cat from the shelte...    30156\n",
       "12  1l0c91p                          what is this move called?    48068"
      ]
     },
     "execution_count": 43,
     "metadata": {},
     "output_type": "execute_result"
    }
   ],
   "source": [
    "df.tail()"
   ]
  },
  {
   "cell_type": "code",
   "execution_count": 44,
   "id": "b1eb7e18",
   "metadata": {},
   "outputs": [
    {
     "data": {
      "text/html": [
       "<div>\n",
       "<style scoped>\n",
       "    .dataframe tbody tr th:only-of-type {\n",
       "        vertical-align: middle;\n",
       "    }\n",
       "\n",
       "    .dataframe tbody tr th {\n",
       "        vertical-align: top;\n",
       "    }\n",
       "\n",
       "    .dataframe thead th {\n",
       "        text-align: right;\n",
       "    }\n",
       "</style>\n",
       "<table border=\"1\" class=\"dataframe\">\n",
       "  <thead>\n",
       "    <tr style=\"text-align: right;\">\n",
       "      <th></th>\n",
       "      <th>Id</th>\n",
       "      <th>Titles</th>\n",
       "      <th>Upvotes</th>\n",
       "    </tr>\n",
       "  </thead>\n",
       "  <tbody>\n",
       "    <tr>\n",
       "      <th>29</th>\n",
       "      <td>1l099i4</td>\n",
       "      <td>This picture needs a good caption!</td>\n",
       "      <td>2265</td>\n",
       "    </tr>\n",
       "    <tr>\n",
       "      <th>50</th>\n",
       "      <td>1l03vuk</td>\n",
       "      <td>Goodbye, baby girl. I'll always miss you</td>\n",
       "      <td>2421</td>\n",
       "    </tr>\n",
       "    <tr>\n",
       "      <th>5</th>\n",
       "      <td>1l0ofud</td>\n",
       "      <td>14yo girl serenading a stray cat she just met ...</td>\n",
       "      <td>3037</td>\n",
       "    </tr>\n",
       "    <tr>\n",
       "      <th>22</th>\n",
       "      <td>1l0btqu</td>\n",
       "      <td>He hasn’t moved for a few minutes. Should I be...</td>\n",
       "      <td>3064</td>\n",
       "    </tr>\n",
       "    <tr>\n",
       "      <th>2</th>\n",
       "      <td>1l0uuuh</td>\n",
       "      <td>5 years ago we found this girl abandoned, we’v...</td>\n",
       "      <td>3687</td>\n",
       "    </tr>\n",
       "    <tr>\n",
       "      <th>27</th>\n",
       "      <td>1l05od6</td>\n",
       "      <td>My beautiful baby only 6 years old has passed ...</td>\n",
       "      <td>4675</td>\n",
       "    </tr>\n",
       "    <tr>\n",
       "      <th>18</th>\n",
       "      <td>1l0bxj8</td>\n",
       "      <td>Everyone wish Orangie a happy 20th birthday!</td>\n",
       "      <td>5362</td>\n",
       "    </tr>\n",
       "    <tr>\n",
       "      <th>10</th>\n",
       "      <td>1l0j9pd</td>\n",
       "      <td>This cat in Kyoto just chilling</td>\n",
       "      <td>5418</td>\n",
       "    </tr>\n",
       "    <tr>\n",
       "      <th>11</th>\n",
       "      <td>1l0hdyo</td>\n",
       "      <td>Not a bad first day introduction?</td>\n",
       "      <td>5800</td>\n",
       "    </tr>\n",
       "    <tr>\n",
       "      <th>8</th>\n",
       "      <td>1l0jivp</td>\n",
       "      <td>Meet fish and chips. We found them abandoned a...</td>\n",
       "      <td>5813</td>\n",
       "    </tr>\n",
       "    <tr>\n",
       "      <th>54</th>\n",
       "      <td>1kzw5cq</td>\n",
       "      <td>Good night, queen</td>\n",
       "      <td>7083</td>\n",
       "    </tr>\n",
       "    <tr>\n",
       "      <th>72</th>\n",
       "      <td>1kzta8w</td>\n",
       "      <td>Cat in the hat</td>\n",
       "      <td>7274</td>\n",
       "    </tr>\n",
       "    <tr>\n",
       "      <th>34</th>\n",
       "      <td>1l0016a</td>\n",
       "      <td>Just adopted this 20 year old cat. Shelter vet...</td>\n",
       "      <td>7851</td>\n",
       "    </tr>\n",
       "    <tr>\n",
       "      <th>49</th>\n",
       "      <td>1kzwd1g</td>\n",
       "      <td>found him inside a trashcan 7 months ago</td>\n",
       "      <td>8136</td>\n",
       "    </tr>\n",
       "    <tr>\n",
       "      <th>41</th>\n",
       "      <td>1kzxhx7</td>\n",
       "      <td>Just said goodbye to my handsome boy Jack- 16 ...</td>\n",
       "      <td>8981</td>\n",
       "    </tr>\n",
       "    <tr>\n",
       "      <th>3</th>\n",
       "      <td>1l0ow8r</td>\n",
       "      <td>A cat lying down in the Hagia Sophia mosque in...</td>\n",
       "      <td>9678</td>\n",
       "    </tr>\n",
       "    <tr>\n",
       "      <th>31</th>\n",
       "      <td>1kzz37j</td>\n",
       "      <td>The OG cat whisperer.</td>\n",
       "      <td>10673</td>\n",
       "    </tr>\n",
       "    <tr>\n",
       "      <th>4</th>\n",
       "      <td>1l0jrky</td>\n",
       "      <td>calm down buddy</td>\n",
       "      <td>17741</td>\n",
       "    </tr>\n",
       "    <tr>\n",
       "      <th>21</th>\n",
       "      <td>1l02k0e</td>\n",
       "      <td>I adopted this 14 year old cat from the shelte...</td>\n",
       "      <td>30156</td>\n",
       "    </tr>\n",
       "    <tr>\n",
       "      <th>12</th>\n",
       "      <td>1l0c91p</td>\n",
       "      <td>what is this move called?</td>\n",
       "      <td>48068</td>\n",
       "    </tr>\n",
       "  </tbody>\n",
       "</table>\n",
       "</div>"
      ],
      "text/plain": [
       "         Id                                             Titles  Upvotes\n",
       "29  1l099i4                 This picture needs a good caption!     2265\n",
       "50  1l03vuk           Goodbye, baby girl. I'll always miss you     2421\n",
       "5   1l0ofud  14yo girl serenading a stray cat she just met ...     3037\n",
       "22  1l0btqu  He hasn’t moved for a few minutes. Should I be...     3064\n",
       "2   1l0uuuh  5 years ago we found this girl abandoned, we’v...     3687\n",
       "27  1l05od6  My beautiful baby only 6 years old has passed ...     4675\n",
       "18  1l0bxj8       Everyone wish Orangie a happy 20th birthday!     5362\n",
       "10  1l0j9pd                    This cat in Kyoto just chilling     5418\n",
       "11  1l0hdyo                  Not a bad first day introduction?     5800\n",
       "8   1l0jivp  Meet fish and chips. We found them abandoned a...     5813\n",
       "54  1kzw5cq                                  Good night, queen     7083\n",
       "72  1kzta8w                                     Cat in the hat     7274\n",
       "34  1l0016a  Just adopted this 20 year old cat. Shelter vet...     7851\n",
       "49  1kzwd1g           found him inside a trashcan 7 months ago     8136\n",
       "41  1kzxhx7  Just said goodbye to my handsome boy Jack- 16 ...     8981\n",
       "3   1l0ow8r  A cat lying down in the Hagia Sophia mosque in...     9678\n",
       "31  1kzz37j                              The OG cat whisperer.    10673\n",
       "4   1l0jrky                                    calm down buddy    17741\n",
       "21  1l02k0e  I adopted this 14 year old cat from the shelte...    30156\n",
       "12  1l0c91p                          what is this move called?    48068"
      ]
     },
     "execution_count": 44,
     "metadata": {},
     "output_type": "execute_result"
    }
   ],
   "source": [
    "df.tail(20)"
   ]
  },
  {
   "cell_type": "code",
   "execution_count": 45,
   "id": "ca3b015d",
   "metadata": {},
   "outputs": [
    {
     "data": {
      "text/plain": [
       "my      29\n",
       "cat     27\n",
       "i       20\n",
       "a       20\n",
       "to      16\n",
       "this    14\n",
       "in      13\n",
       "the     12\n",
       "is      12\n",
       "of       9\n",
       "dtype: int64"
      ]
     },
     "execution_count": 45,
     "metadata": {},
     "output_type": "execute_result"
    }
   ],
   "source": [
    "def word_count(df, column):\n",
    "    dictionary={}\n",
    "    for idx, row in df.iterrows():\n",
    "        split = row[column].lower().split(\" \")\n",
    "        for word in split:\n",
    "            if word in dictionary:\n",
    "                dictionary[word] += 1\n",
    "            else:\n",
    "                dictionary[word] = 1\n",
    "    dictionary = pd.Series(dictionary)\n",
    "    dictionary = dictionary.sort_values(ascending=False)\n",
    "    return dictionary\n",
    "\n",
    "top_counts = word_count(df, \"Titles\")\n",
    "top_counts[0:10]"
   ]
  },
  {
   "cell_type": "code",
   "execution_count": null,
   "id": "daa6d017",
   "metadata": {},
   "outputs": [],
   "source": []
  },
  {
   "cell_type": "code",
   "execution_count": null,
   "id": "8bd98123",
   "metadata": {},
   "outputs": [],
   "source": []
  }
 ],
 "metadata": {
  "kernelspec": {
   "display_name": "Python 3 (ipykernel)",
   "language": "python",
   "name": "python3"
  },
  "language_info": {
   "codemirror_mode": {
    "name": "ipython",
    "version": 3
   },
   "file_extension": ".py",
   "mimetype": "text/x-python",
   "name": "python",
   "nbconvert_exporter": "python",
   "pygments_lexer": "ipython3",
   "version": "3.11.5"
  }
 },
 "nbformat": 4,
 "nbformat_minor": 5
}
